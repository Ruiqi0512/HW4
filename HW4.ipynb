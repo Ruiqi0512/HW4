{
 "cells": [
  {
   "cell_type": "code",
   "execution_count": null,
   "id": "42aeadf6",
   "metadata": {},
   "outputs": [],
   "source": [
    "# 1. in my own words: the standard error of the mean is focus on the mean, and choose the accuracy of it\n",
    "#   in the distribution means the spread of the dataset. It is fouse on the whole dataset and also the variability.         \n",
    "# The difference visual representation of common data, the area of the standard deviation are large, and the area of standard error of the mean is small\n",
    "# Also, the function to calculate these are different."
   ]
  },
  {
   "cell_type": "code",
   "execution_count": null,
   "id": "b5629f50",
   "metadata": {},
   "outputs": [],
   "source": [
    "# link of chatbot https://chatgpt.com/share/66fb3652-4ab4-8007-9232-479db5074d81"
   ]
  },
  {
   "cell_type": "code",
   "execution_count": null,
   "id": "aeb5380d",
   "metadata": {},
   "outputs": [],
   "source": [
    "# 2. in my own: create a 95% confidence interval = mean + (1.96 * SEM )"
   ]
  },
  {
   "cell_type": "code",
   "execution_count": null,
   "id": "9f1719cf",
   "metadata": {},
   "outputs": [],
   "source": [
    "# chatbot a summary of how to use the standard error of the mean (SEM) to create a 95% confidence interval covering 95% of bootstrapped sample means:\n",
    "\n",
    "# Bootstrapping: Resample the data (with replacement) multiple times (e.g., 10,000) and calculate the mean for each resample to create a distribution of bootstrapped sample means.\n",
    "\n",
    "# Calculate SEM: Find the standard error of the mean for the bootstrapped sample means. This involves dividing the standard deviation of the bootstrapped means by the square root of the sample size.\n",
    "\n",
    "# Confidence Interval Methods:\n",
    "\n",
    "# Percentile Method: Directly use the 2.5th and 97.5th percentiles of the bootstrapped means to get the 95% confidence interval.\n",
    "# SEM Method: Multiply the SEM by the Z-score (1.96 for 95% confidence) to get the margin of error. Add and subtract this from the sample mean to create the interval.\n"
   ]
  },
  {
   "cell_type": "code",
   "execution_count": null,
   "id": "dc906258",
   "metadata": {},
   "outputs": [],
   "source": [
    "# Link of chatbot https://chatgpt.com/share/66fb4178-0830-8007-9170-f32f976695c6"
   ]
  },
  {
   "cell_type": "code",
   "execution_count": null,
   "id": "a9aa5c2b",
   "metadata": {},
   "outputs": [],
   "source": [
    "# 3. we create a 95% bootstrapped confidence interval using the bootstrapped means without using their standard deviation to estimate the standard error of the mean\n",
    "#. Fristly, Generate Bootstrap Samples: "
   ]
  },
  {
   "cell_type": "code",
   "execution_count": null,
   "id": "0075baf9",
   "metadata": {},
   "outputs": [],
   "source": [
    "# secendly. \n",
    "lower_bound = np.quantile(bootstrapped_means, 0.025)\n",
    "upper_bound = np.quantile(bootstrapped_means, 0.975)\n"
   ]
  },
  {
   "cell_type": "code",
   "execution_count": null,
   "id": "35749395",
   "metadata": {},
   "outputs": [],
   "source": [
    "#thirdly. using the each  Bootstrapped  and  compute the sample mean."
   ]
  },
  {
   "cell_type": "code",
   "execution_count": null,
   "id": "e2185885",
   "metadata": {},
   "outputs": [],
   "source": [
    "# 4.\n",
    "\n",
    "\n",
    "import numpy as np\n",
    "\n",
    "# Sample data\n",
    "sample = np.array([5, 10, 15, 20, 25, 30, 35, 40, 45, 50])\n",
    "\n",
    "# Number of bootstrap samples\n",
    "n_bootstraps = 1000\n",
    "\n",
    "# Define the function to compute the statistic of interest (population mean in this case)\n",
    "# Change np.mean to np.median or another statistic (e.g., np.std) to compute other parameters.\n",
    "def bootstrap_statistic(data, func=np.mean, n_bootstraps=1000, ci=0.95):\n",
    "    bootstrapped_samples = np.random.choice(data, size=(n_bootstraps, len(data)), replace=True)\n",
    "    stat_estimates = np.apply_along_axis(func, 1, bootstrapped_samples)\n",
    "    lower_bound = np.quantile(stat_estimates, (1 - ci) / 2)\n",
    "    upper_bound = np.quantile(stat_estimates, 1 - (1 - ci) / 2)\n",
    "    return lower_bound, upper_bound\n",
    "\n",
    "# Calculate the 95% bootstrap confidence interval for the mean\n",
    "ci_mean = bootstrap_statistic(sample, func=np.mean, n_bootstraps=n_bootstraps)\n",
    "\n",
    "# Print the result for population mean\n",
    "print(f\"95% Bootstrap Confidence Interval for the Population Mean: {ci_mean}\")\n",
    "\n",
    "# To calculate a 95% bootstrap confidence interval for the population median,\n",
    "# change func=np.mean to func=np.median when calling the bootstrap_statistic function.\n",
    "ci_median = bootstrap_statistic(sample, func=np.median, n_bootstraps=n_bootstraps)\n",
    "\n",
    "# Print the result for population median\n",
    "print(f\"95% Bootstrap Confidence Interval for the Population Median: {ci_median}\")\n"
   ]
  },
  {
   "cell_type": "code",
   "execution_count": null,
   "id": "a57075c6",
   "metadata": {},
   "outputs": [],
   "source": [
    "# Here's a summary of chatbot\n",
    "\n",
    "#The line `ci_median = bootstrap_statistic(sample, func=np.median, n_bootstraps=n_bootstraps)` calculates the **95% bootstrap confidence interval** for the **population median** based on the given sample.\n",
    "  \n",
    "#The function `bootstrap_statistic`:\n",
    "# Generates a specified number of bootstrap samples (in this case, 1000).\n",
    "#Applies the **median** function (`np.median`) to each bootstrap sample.\n",
    "# Calculates the 95% confidence interval by finding the 2.5th and 97.5th percentiles of the bootstrap medians.\n",
    "#You can change the `func` argument to other functions (like `np.mean` for the mean or `np.std` for the standard deviation) to compute the confidence interval for different population parameters.\n",
    "\n"
   ]
  },
  {
   "cell_type": "code",
   "execution_count": null,
   "id": "ade41666",
   "metadata": {},
   "outputs": [],
   "source": [
    "# chatbot link  https://chatgpt.com/share/66fb51e2-37fc-8007-b4bb-dfbb8389b962"
   ]
  },
  {
   "cell_type": "code",
   "execution_count": null,
   "id": "b2130c19",
   "metadata": {},
   "outputs": [],
   "source": [
    "#.  \"Post-lecture\" HW"
   ]
  },
  {
   "cell_type": "code",
   "execution_count": null,
   "id": "1c11bb60",
   "metadata": {},
   "outputs": [],
   "source": [
    "# 5. in my own words: I think the roles of popualation parameter and the sample sample statistic are so different,\n",
    "# the roles of the population parameter is for showcase the whole quantity,and the sample statistic is for estumate to show the related of that\n",
    "# the reason to  distinguish between the role of the popualation parameter and the sample sample statistic when it comes to confidence intervals\n",
    "# is it will show whether the resource are certainty and it can choose the true methods, and clarify the generalizability."
   ]
  },
  {
   "cell_type": "code",
   "execution_count": null,
   "id": "272d270a",
   "metadata": {},
   "outputs": [],
   "source": [
    "# the summery of the chatbot  Summary of Interactions:\n",
    "\n",
    "#Population Parameter vs. Sample Statistic:\n",
    "# Parameter refers to a fixed, unknown value describing a characteristic of an entire \n",
    "#Sample Statistic is a value calculated from sample data, used to estimate the population parameter \n",
    "#The goal of statistical inference is to use the sample statistic to make educated guesses about the population parameter.\n",
    "#The sample mean is an unbiased estimator, meaning the expected value of the sample mean across many samples is equal to the population mean: \n",
    "\n",
    "#Role of Population Parameter and Sample Statistic in Confidence Intervals:\n",
    "#The sample statistic is the central point used to create the confidence interval.\n",
    "#The confidence interval helps estimate the population parameter (which is unknown) by providing a range of plausible values based on the sample statistic.\n",
    "#The sample statistic varies from sample to sample, but the population parameter remains fixed. Confidence intervals account for this uncertainty in estimation.\n",
    "\n",
    "#Why We Distinguish Population Parameter and Sample Statistic:\n",
    "#Uncertainty: The sample statistic varies from sample to sample, while the population parameter is fixed but unknown. We distinguish them to understand and quantify uncertainty in our estimates.\n",
    "#Generalization: The sample statistic reflects the sample data, while we aim to generalize findings to the population. The distinction helps ensure that the confidence interval reflects the population and not just the sample.\n",
    "#Interpretation: Misunderstanding the difference could lead to incorrect interpretations, such as assuming the sample statistic is the true population parameter."
   ]
  },
  {
   "cell_type": "code",
   "execution_count": null,
   "id": "5cc34656",
   "metadata": {},
   "outputs": [],
   "source": [
    "# chat bot link https://chatgpt.com/share/66fb5646-18fc-8007-907a-4e2f6da9bf15"
   ]
  },
  {
   "cell_type": "code",
   "execution_count": null,
   "id": "64c52926",
   "metadata": {},
   "outputs": [],
   "source": [
    "# 6.1 What is the process of bootstrapping?\n",
    "# 1)make a bootstrapped dataset\n",
    "# 2)Calculate something like the mean \n",
    "# 3)Keep track of that calculation \n",
    "# 4)Repeat steps 1 through 3 a bunch of time"
   ]
  },
  {
   "cell_type": "code",
   "execution_count": null,
   "id": "fc78d4a5",
   "metadata": {},
   "outputs": [],
   "source": [
    "# 6.2 What is the main purpose of bootstrapping?\n",
    "#.I think it is benefit to estimate confidence intervals, standard errors, or other measures of uncertainty.\n"
   ]
  },
  {
   "cell_type": "code",
   "execution_count": null,
   "id": "750aa5c6",
   "metadata": {},
   "outputs": [],
   "source": [
    "# 6.3 If you had a (hypothesized) guess about what the average of a population was, and you had a sample of size n from thatpopulation, how could you use bootstrapping to assess whether or not your (hypothesized) guess might be plausible\n",
    "#Resample the data: Perform bootstrapping by randomly sampling from  original sample  \n",
    "#Calculate the sample means: For each bootstrapped resample, calculate the mean.\n",
    "#Construct a confidence interval: From the bootstrapped sample means, construct a confidence interval for the population mean. \n",
    "#Finally, compare the mean to hypothesizes"
   ]
  },
  {
   "cell_type": "code",
   "execution_count": null,
   "id": "89e6a2be",
   "metadata": {},
   "outputs": [],
   "source": [
    "# 7. A confidence interval that includes zero means that zero is a possible value for the population mean. \n",
    "#  We do not have enough evidence to prove that the drug has a significant effect on the average, and therefore, we cannot reject the null hypothesis."
   ]
  },
  {
   "cell_type": "code",
   "execution_count": null,
   "id": "f6800d10",
   "metadata": {},
   "outputs": [],
   "source": [
    "# 8.\n",
    "import numpy as np\n",
    "import pandas as pd\n",
    "import matplotlib.pyplot as plt\n",
    "from scipy import stats\n",
    "\n",
    "# Set seed for reproducibility\n",
    "np.random.seed(42)\n",
    "\n",
    "# Create CSV file\n",
    "data = {\n",
    "    'PatientID': [1, 2, 3, 4, 5, 6, 7, 8, 9, 10],\n",
    "    'Age': [45, 34, 29, 52, 37, 41, 33, 48, 26, 39],\n",
    "    'Gender': ['M', 'F', 'M', 'F', 'M', 'F', 'M', 'F', 'M', 'F'],\n",
    "    'InitialHealthScore': [84, 78, 83, 81, 81, 80, 79, 85, 76, 83],\n",
    "    'FinalHealthScore': [86, 86, 80, 86, 84, 86, 86, 82, 83, 84]\n",
    "}\n",
    "\n",
    "df = pd.DataFrame(data)\n",
    "\n",
    "# Calculate the difference in health scores\n",
    "df['HealthScoreDifference'] = df['FinalHealthScore'] - df['InitialHealthScore']\n",
    "\n",
    "# Paired t-test\n",
    "t_stat, p_value = stats.ttest_rel(df['FinalHealthScore'], df['InitialHealthScore'])\n",
    "\n",
    "# Bootstrapping 95% Confidence Interval for mean difference\n",
    "bootstrap_samples = np.random.choice(df['HealthScoreDifference'], size=(1000, len(df)), replace=True)\n",
    "bootstrap_means = np.mean(bootstrap_samples, axis=1)\n",
    "ci_lower, ci_upper = np.quantile(bootstrap_means, [0.025, 0.975])\n",
    "\n",
    "print(f\"T-statistic: {t_stat}, P-value: {p_value}\")\n",
    "print(f\"Bootstrapped 95% Confidence Interval: ({ci_lower}, {ci_upper})\")\n"
   ]
  },
  {
   "cell_type": "code",
   "execution_count": null,
   "id": "c79c8d47",
   "metadata": {},
   "outputs": [],
   "source": [
    "plt.figure(figsize=(8,6))\n",
    "plt.hist(df['HealthScoreDifference'], bins=5, edgecolor='k')\n",
    "plt.title('Distribution of Health Score Differences')\n",
    "plt.xlabel('Health Score Difference')\n",
    "plt.ylabel('Frequency')\n",
    "plt.show()\n"
   ]
  },
  {
   "cell_type": "code",
   "execution_count": null,
   "id": "59334a7b",
   "metadata": {},
   "outputs": [],
   "source": [
    "# 9. yes!"
   ]
  }
 ],
 "metadata": {
  "kernelspec": {
   "display_name": "Python 3 (ipykernel)",
   "language": "python",
   "name": "python3"
  },
  "language_info": {
   "codemirror_mode": {
    "name": "ipython",
    "version": 3
   },
   "file_extension": ".py",
   "mimetype": "text/x-python",
   "name": "python",
   "nbconvert_exporter": "python",
   "pygments_lexer": "ipython3",
   "version": "3.11.6"
  }
 },
 "nbformat": 4,
 "nbformat_minor": 5
}
